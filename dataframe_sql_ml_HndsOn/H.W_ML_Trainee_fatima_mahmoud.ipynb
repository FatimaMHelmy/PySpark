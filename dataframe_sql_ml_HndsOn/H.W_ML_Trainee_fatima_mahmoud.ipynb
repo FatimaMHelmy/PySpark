{
 "cells": [
  {
   "cell_type": "code",
   "execution_count": 9,
   "metadata": {},
   "outputs": [
    {
     "data": {
      "text/html": [
       "<style>pre { white-space: pre !important; }</style>"
      ],
      "text/plain": [
       "<IPython.core.display.HTML object>"
      ]
     },
     "metadata": {},
     "output_type": "display_data"
    }
   ],
   "source": [
    "from IPython.display import display, HTML\n",
    "display(HTML(\"<style>pre { white-space: pre !important; }</style>\"))"
   ]
  },
  {
   "cell_type": "markdown",
   "metadata": {
    "id": "5ZzrhGnHkRCU"
   },
   "source": [
    "### Our task is to develop a regression model that will predict the number of  crew members required for future ships from the given features. "
   ]
  },
  {
   "cell_type": "code",
   "execution_count": 1,
   "metadata": {},
   "outputs": [],
   "source": [
    "import findspark \n",
    "import numpy \n",
    "import pandas\n",
    "findspark.init()\n",
    "import pyspark\n",
    "from  pyspark.sql import SparkSession \n",
    "spark = SparkSession.builder.getOrCreate()\n",
    "sc = spark.sparkContext"
   ]
  },
  {
   "cell_type": "code",
   "execution_count": 2,
   "metadata": {},
   "outputs": [],
   "source": []
  },
  {
   "cell_type": "markdown",
   "metadata": {},
   "source": [
    "### Read the data Crew.csv into spark dataframe\n",
    "- inferSchema=True and header=True.\n",
    "- Print the schema and show the first few rows.\n",
    "- Use df.describe() to see the statistical properties of the data."
   ]
  },
  {
   "cell_type": "code",
   "execution_count": 2,
   "metadata": {},
   "outputs": [],
   "source": [
    "data = spark.read.format(\"csv\").\\\n",
    "option(\"inferschema\",\"true\").\\\n",
    "option(\"header\" ,\"true\").\\\n",
    "load(\"Crew.csv\")"
   ]
  },
  {
   "cell_type": "code",
   "execution_count": 3,
   "metadata": {
    "id": "Xy1t-vbYZnN_"
   },
   "outputs": [
    {
     "name": "stdout",
     "output_type": "stream",
     "text": [
      "root\n",
      " |-- Ship_name: string (nullable = true)\n",
      " |-- Cruise_line: string (nullable = true)\n",
      " |-- Age: integer (nullable = true)\n",
      " |-- Tonnage: double (nullable = true)\n",
      " |-- passengers: double (nullable = true)\n",
      " |-- length: double (nullable = true)\n",
      " |-- cabins: double (nullable = true)\n",
      " |-- passenger_density: double (nullable = true)\n",
      " |-- crew: double (nullable = true)\n",
      "\n"
     ]
    }
   ],
   "source": [
    "data.printSchema()"
   ]
  },
  {
   "cell_type": "code",
   "execution_count": 5,
   "metadata": {
    "colab": {
     "base_uri": "https://localhost:8080/"
    },
    "id": "0OKCAPI0ZnOA",
    "outputId": "fa793f7a-20e2-4fd0-c382-6cc188da2569"
   },
   "outputs": [
    {
     "name": "stdout",
     "output_type": "stream",
     "text": [
      "+-------+---------+-----------+------------------+------------------+-----------------+-----------------+------------------+-----------------+-----------------+\n",
      "|summary|Ship_name|Cruise_line|               Age|           Tonnage|       passengers|           length|            cabins|passenger_density|             crew|\n",
      "+-------+---------+-----------+------------------+------------------+-----------------+-----------------+------------------+-----------------+-----------------+\n",
      "|  count|      158|        158|               158|               158|              158|              158|               158|              158|              158|\n",
      "|   mean| Infinity|       null|15.689873417721518| 71.28467088607599|18.45740506329114|8.130632911392404| 8.830000000000005|39.90094936708861|7.794177215189873|\n",
      "| stddev|     null|       null| 7.615691058751413|37.229540025907866|9.677094775143416|1.793473548054825|4.4714172221480615| 8.63921711391542|3.503486564627034|\n",
      "|    min|Adventure|    Azamara|                 4|             2.329|             0.66|             2.79|              0.33|             17.7|             0.59|\n",
      "|    max|Zuiderdam|   Windstar|                48|             220.0|             54.0|            11.82|              27.0|            71.43|             21.0|\n",
      "+-------+---------+-----------+------------------+------------------+-----------------+-----------------+------------------+-----------------+-----------------+\n",
      "\n"
     ]
    }
   ],
   "source": [
    "data.describe().show()"
   ]
  },
  {
   "cell_type": "code",
   "execution_count": 40,
   "metadata": {
    "colab": {
     "base_uri": "https://localhost:8080/"
    },
    "id": "lVm7px4bZnOB",
    "outputId": "dba037c0-7506-45b1-d873-68f8f2e581ce"
   },
   "outputs": [
    {
     "name": "stdout",
     "output_type": "stream",
     "text": [
      "+----------+----------------+---+-------+----------+------+------+-----------------+-----+\n",
      "| Ship_name|     Cruise_line|Age|Tonnage|passengers|length|cabins|passenger_density| crew|\n",
      "+----------+----------------+---+-------+----------+------+------+-----------------+-----+\n",
      "| Adventure| Royal_Caribbean| 12|  138.0|     31.14|  10.2| 15.57|            44.32|11.85|\n",
      "|   Allegra|           Costa| 21|  28.43|      8.08|  6.16|   4.1|            35.19|  4.0|\n",
      "| Amsterdam|Holland_American| 13|   61.0|      13.8|   7.8|  6.88|             44.2|  6.0|\n",
      "|   Arcadia|             P&O|  9|   85.0|     19.68|  9.35|  9.84|            43.19| 8.69|\n",
      "|     Aries|            Star| 22|  3.341|      0.66|   2.8|  0.33|            50.62| 0.59|\n",
      "|   Armonia|             MSC| 12|   58.6|     15.66|  8.24|  7.83|            37.42|  7.0|\n",
      "|   Artemis|             P&O| 29|   45.0|     11.78|  7.54|   5.3|             38.2|  5.2|\n",
      "| Atlantica|           Costa| 13| 85.619|     21.14|  9.57| 10.56|             40.5|  9.2|\n",
      "|    Aurora|             P&O| 13|   76.0|     18.74|  8.86|  9.39|            40.55|  8.5|\n",
      "|Brilliance| Royal_Caribbean| 11|  90.09|     25.01|  9.62|  10.5|            36.02| 8.48|\n",
      "+----------+----------------+---+-------+----------+------+------+-----------------+-----+\n",
      "only showing top 10 rows\n",
      "\n"
     ]
    }
   ],
   "source": [
    "data.sort(\"ship_name\").show(10)"
   ]
  },
  {
   "cell_type": "markdown",
   "metadata": {
    "id": "1QTNLhZSlf9_"
   },
   "source": [
    "### StringIndexer and OneHotEncoder \n",
    "- Create StringIndexer and OneHotEncoder to process the data.\n",
    "- StringIndexer is for any string data type.\n",
    "- OneHotEncoder will be applied to the StringIndexer columns.\n",
    "- Convert all obtained columns from OneHotEncoder and the other numeric columns into a feature column (use VectorAssembler) "
   ]
  },
  {
   "cell_type": "code",
   "execution_count": 11,
   "metadata": {},
   "outputs": [
    {
     "data": {
      "text/plain": [
       "[('Ship_name', 'string'),\n",
       " ('Cruise_line', 'string'),\n",
       " ('Age', 'int'),\n",
       " ('Tonnage', 'double'),\n",
       " ('passengers', 'double'),\n",
       " ('length', 'double'),\n",
       " ('cabins', 'double'),\n",
       " ('passenger_density', 'double'),\n",
       " ('crew', 'double')]"
      ]
     },
     "execution_count": 11,
     "metadata": {},
     "output_type": "execute_result"
    }
   ],
   "source": [
    "data_types = data.dtypes\n",
    "data_types"
   ]
  },
  {
   "cell_type": "code",
   "execution_count": 17,
   "metadata": {},
   "outputs": [
    {
     "data": {
      "text/plain": [
       "['Ship_name', 'Cruise_line']"
      ]
     },
     "execution_count": 17,
     "metadata": {},
     "output_type": "execute_result"
    }
   ],
   "source": [
    "cat_col = [v for (v,t) in data_types if t == \"string\" ]\n",
    "cat_col "
   ]
  },
  {
   "cell_type": "code",
   "execution_count": 18,
   "metadata": {},
   "outputs": [
    {
     "data": {
      "text/plain": [
       "['Ship_name_index', 'Cruise_line_index']"
      ]
     },
     "execution_count": 18,
     "metadata": {},
     "output_type": "execute_result"
    }
   ],
   "source": [
    "cat_col_indx = [s+'_index' for s in cat_col]\n",
    "cat_col_indx"
   ]
  },
  {
   "cell_type": "code",
   "execution_count": 19,
   "metadata": {
    "colab": {
     "base_uri": "https://localhost:8080/"
    },
    "id": "Yes7nhEoEkOy",
    "outputId": "c3a90238-c51a-4c1b-e557-47b573484814"
   },
   "outputs": [
    {
     "data": {
      "text/plain": [
       "['Ship_name_OHE', 'Cruise_line_OHE']"
      ]
     },
     "execution_count": 19,
     "metadata": {},
     "output_type": "execute_result"
    }
   ],
   "source": [
    "cat_col_OHE = [s+'_OHE' for s in cat_col]\n",
    "cat_col_OHE"
   ]
  },
  {
   "cell_type": "code",
   "execution_count": 15,
   "metadata": {
    "id": "MOP76_33En9D"
   },
   "outputs": [],
   "source": []
  },
  {
   "cell_type": "code",
   "execution_count": 20,
   "metadata": {
    "colab": {
     "base_uri": "https://localhost:8080/"
    },
    "id": "KfTf34ugE8or",
    "outputId": "05c27b21-6d8d-4b02-9084-fcefd6507263"
   },
   "outputs": [
    {
     "data": {
      "text/plain": [
       "['Tonnage', 'passengers', 'length', 'cabins', 'passenger_density']"
      ]
     },
     "execution_count": 20,
     "metadata": {},
     "output_type": "execute_result"
    }
   ],
   "source": [
    "num_col = [v for (v,t) in data_types if (t == \"double\") & (v != \"crew\") ]\n",
    "num_col"
   ]
  },
  {
   "cell_type": "code",
   "execution_count": 23,
   "metadata": {
    "id": "1olRCArpZnOH"
   },
   "outputs": [
    {
     "data": {
      "text/plain": [
       "['Tonnage',\n",
       " 'passengers',\n",
       " 'length',\n",
       " 'cabins',\n",
       " 'passenger_density',\n",
       " 'Ship_name_OHE',\n",
       " 'Cruise_line_OHE']"
      ]
     },
     "execution_count": 23,
     "metadata": {},
     "output_type": "execute_result"
    }
   ],
   "source": [
    "AllDataCol = num_col + cat_col_OHE\n",
    "AllDataCol"
   ]
  },
  {
   "cell_type": "markdown",
   "metadata": {},
   "source": [
    "### Divide the data into Train/Test"
   ]
  },
  {
   "cell_type": "code",
   "execution_count": 24,
   "metadata": {},
   "outputs": [],
   "source": [
    "trainDF,testDf = data.randomSplit([0.8,0.2],seed=42)"
   ]
  },
  {
   "cell_type": "markdown",
   "metadata": {
    "id": "Rbf56f6AmUUl"
   },
   "source": [
    "### Create a Linear Regression Model "
   ]
  },
  {
   "cell_type": "code",
   "execution_count": 25,
   "metadata": {},
   "outputs": [],
   "source": [
    "from pyspark.ml.feature import StringIndexer, OneHotEncoder,VectorAssembler\n",
    "from pyspark.ml.regression import LinearRegression\n",
    "from pyspark.ml import Pipeline"
   ]
  },
  {
   "cell_type": "code",
   "execution_count": 28,
   "metadata": {
    "id": "XRv5JqFmZnOJ"
   },
   "outputs": [],
   "source": [
    "strIndx = StringIndexer(inputCols=cat_col,outputCols=cat_col_indx,handleInvalid='skip')\n",
    "\n",
    "ohe = OneHotEncoder(inputCols=cat_col_indx,outputCols=cat_col_OHE)\n",
    "\n",
    "vecAss = VectorAssembler(inputCols=AllDataCol,outputCol='features')\n",
    "\n",
    "lr = LinearRegression(featuresCol='features',labelCol='crew',predictionCol='prediction')"
   ]
  },
  {
   "cell_type": "markdown",
   "metadata": {
    "id": "dVdxQTcSC6Cz"
   },
   "source": [
    "### Create a Pipeline model"
   ]
  },
  {
   "cell_type": "code",
   "execution_count": 29,
   "metadata": {
    "id": "M2hobdTLC---"
   },
   "outputs": [],
   "source": [
    "pl = Pipeline(stages=[strIndx,ohe,vecAss,lr])\n"
   ]
  },
  {
   "cell_type": "markdown",
   "metadata": {},
   "source": [
    "### Fit the Pipeline model to the trainig data"
   ]
  },
  {
   "cell_type": "code",
   "execution_count": 34,
   "metadata": {},
   "outputs": [],
   "source": [
    "plModel = pl.fit(trainDF)"
   ]
  },
  {
   "cell_type": "markdown",
   "metadata": {},
   "source": [
    "### Make a prediction for the same training data and evaluate the model performance using RMSE and r2"
   ]
  },
  {
   "cell_type": "code",
   "execution_count": 43,
   "metadata": {
    "id": "zHyEJmL7GeiL"
   },
   "outputs": [],
   "source": [
    "pred = plModel.transform(trainDF)"
   ]
  },
  {
   "cell_type": "code",
   "execution_count": 44,
   "metadata": {},
   "outputs": [
    {
     "name": "stdout",
     "output_type": "stream",
     "text": [
      "+-----+------------------+\n",
      "| crew|        prediction|\n",
      "+-----+------------------+\n",
      "|11.85|11.841880037884803|\n",
      "|  4.0| 4.001874983474391|\n",
      "| 8.69| 8.697033614952687|\n",
      "| 0.59|0.5874791415048413|\n",
      "|  7.0| 7.006495363506672|\n",
      "|  9.2| 9.199675984909963|\n",
      "| 8.48| 8.473269309582985|\n",
      "| 11.0|11.003333726785044|\n",
      "|  6.7| 6.692131812096375|\n",
      "| 8.58| 8.580507205296705|\n",
      "|  2.1|2.0876456996437716|\n",
      "| 19.1| 19.08980718717625|\n",
      "| 9.99|  9.98992209136459|\n",
      "|  9.0| 9.004201646754733|\n",
      "|  4.7| 4.704188930155767|\n",
      "| 11.0|10.847785565959772|\n",
      "|  9.0| 9.158699357376708|\n",
      "| 10.0|  9.99044597917515|\n",
      "| 6.14| 6.143143696657559|\n",
      "|  9.2| 9.191256741525603|\n",
      "+-----+------------------+\n",
      "only showing top 20 rows\n",
      "\n"
     ]
    }
   ],
   "source": [
    "pred.select(\"crew\",\"prediction\").show()"
   ]
  },
  {
   "cell_type": "code",
   "execution_count": 46,
   "metadata": {
    "id": "3Bku7eOVHKbF"
   },
   "outputs": [],
   "source": [
    "from pyspark.ml.evaluation import RegressionEvaluator\n"
   ]
  },
  {
   "cell_type": "code",
   "execution_count": 51,
   "metadata": {
    "id": "HoAZC7NHZnOK"
   },
   "outputs": [
    {
     "data": {
      "text/plain": [
       "0.08414002810710287"
      ]
     },
     "execution_count": 51,
     "metadata": {},
     "output_type": "execute_result"
    }
   ],
   "source": [
    "regeval = RegressionEvaluator(predictionCol='prediction',labelCol='crew',metricName='rmse')\n",
    "regeval.evaluate(pred)"
   ]
  },
  {
   "cell_type": "code",
   "execution_count": 52,
   "metadata": {},
   "outputs": [
    {
     "data": {
      "text/plain": [
       "0.9994359077926166"
      ]
     },
     "execution_count": 52,
     "metadata": {},
     "output_type": "execute_result"
    }
   ],
   "source": [
    "\n",
    "regeval = RegressionEvaluator(predictionCol='prediction',labelCol='crew',metricName='r2')\n",
    "regeval.evaluate(pred)"
   ]
  },
  {
   "cell_type": "markdown",
   "metadata": {},
   "source": [
    "### Make a prediction for the test data and evaluate the model performance using RMSE and r2"
   ]
  },
  {
   "cell_type": "code",
   "execution_count": 31,
   "metadata": {},
   "outputs": [
    {
     "name": "stdout",
     "output_type": "stream",
     "text": [
      "RMSE is 0.4725\n",
      "r2 is 0.9870\n"
     ]
    }
   ],
   "source": [
    "pred = plModel.transform(testDf)\n"
   ]
  },
  {
   "cell_type": "code",
   "execution_count": 53,
   "metadata": {},
   "outputs": [],
   "source": [
    "remse = RegressionEvaluator(predictionCol='prediction',labelCol='crew',metricName='rmse')\n",
    "r2 = RegressionEvaluator(predictionCol='prediction',labelCol='crew',metricName='r2')\n"
   ]
  },
  {
   "cell_type": "code",
   "execution_count": 54,
   "metadata": {},
   "outputs": [
    {
     "name": "stdout",
     "output_type": "stream",
     "text": [
      "rmse==  0.08414002810710287\n",
      "r2==  0.9994359077926166\n"
     ]
    }
   ],
   "source": [
    "print(\"rmse== \",remse.evaluate(pread))\n",
    "print(\"r2== \",r2.evaluate(pred))"
   ]
  }
 ],
 "metadata": {
  "colab": {
   "collapsed_sections": [
    "vIwZsU0haNkj",
    "Zaj0nHTcngEF",
    "JHjK2Kqfuv24",
    "5d6364f6",
    "9VAcIXkTgN9D"
   ],
   "name": "Session_2_H_W_Solution.ipynb",
   "provenance": []
  },
  "kernelspec": {
   "display_name": "Python 3 (ipykernel)",
   "language": "python",
   "name": "python3"
  },
  "language_info": {
   "codemirror_mode": {
    "name": "ipython",
    "version": 3
   },
   "file_extension": ".py",
   "mimetype": "text/x-python",
   "name": "python",
   "nbconvert_exporter": "python",
   "pygments_lexer": "ipython3",
   "version": "3.10.9"
  }
 },
 "nbformat": 4,
 "nbformat_minor": 1
}
