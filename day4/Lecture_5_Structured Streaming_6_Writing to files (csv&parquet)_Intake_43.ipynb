{
 "cells": [
  {
   "cell_type": "code",
   "execution_count": 1,
   "id": "39010447",
   "metadata": {},
   "outputs": [],
   "source": [
    "import pyspark\n",
    "from pyspark.sql import SparkSession\n",
    "spark = SparkSession.builder.appName(\"Writing to csv\").getOrCreate()"
   ]
  },
  {
   "cell_type": "code",
   "execution_count": 2,
   "id": "898bcc08",
   "metadata": {},
   "outputs": [],
   "source": [
    "from pyspark.sql.types import (StructType, StructField,\n",
    "                               StringType, IntegerType)\n",
    "\n",
    "recordSchema = StructType([StructField('date', StringType(), True),\n",
    "                           StructField('delay', IntegerType(), True),\n",
    "                           StructField('distance', IntegerType(), True),\n",
    "                           StructField('origin', StringType(), True),\n",
    "                           StructField('destination', StringType(), True)])"
   ]
  },
  {
   "cell_type": "code",
   "execution_count": 7,
   "id": "ff6e3e21",
   "metadata": {},
   "outputs": [],
   "source": [
    "df = spark.readStream.format(\"csv\") \\\n",
    "    .schema(recordSchema) \\\n",
    "    .load(\"MyInputStream/\")"
   ]
  },
  {
   "cell_type": "code",
   "execution_count": 13,
   "id": "8758e545",
   "metadata": {},
   "outputs": [],
   "source": [
    "df = spark.readStream.format(\"parquet\") \\\n",
    "    .schema(recordSchema) \\\n",
    "    .load(\"MyInputStream/\")"
   ]
  },
  {
   "cell_type": "code",
   "execution_count": 14,
   "id": "1884e548",
   "metadata": {},
   "outputs": [],
   "source": [
    "writer = df.writeStream.outputMode(\"append\") \\\n",
    "    .format(\"csv\")  \\\n",
    "    .option(\"path\", \"OutStream/\") \\\n",
    "    .option(\"checkpointLocation\", \"chkpnt\") "
   ]
  },
  {
   "cell_type": "code",
   "execution_count": 8,
   "id": "bb801a40",
   "metadata": {},
   "outputs": [],
   "source": [
    "writer = df.writeStream.outputMode(\"append\") \\\n",
    "    .format(\"parquet\")  \\\n",
    "    .option(\"path\", \"OutStream/\") \\\n",
    "    .option(\"checkpointLocation\", \"chkpnt\")"
   ]
  },
  {
   "cell_type": "code",
   "execution_count": 15,
   "id": "fafe0119",
   "metadata": {},
   "outputs": [
    {
     "name": "stdout",
     "output_type": "stream",
     "text": [
      "23/04/19 14:53:58 WARN ResolveWriteToStream: spark.sql.adaptive.enabled is not supported in streaming DataFrames/Datasets and will be disabled.\n",
      "23/04/19 14:53:58 WARN HadoopFSUtils: The directory file:/home/hatemelattar/AI Intake 43/PySpark/Ubuntu_Final_Spark_Intake_43/L5_StructuredStreaming/MyInputStream/D1.csv was not found. Was it deleted very recently?\n"
     ]
    }
   ],
   "source": [
    "query = writer.start()\n",
    "#query.awaitTermination()"
   ]
  },
  {
   "cell_type": "code",
   "execution_count": 16,
   "id": "f5cb9d00",
   "metadata": {},
   "outputs": [],
   "source": [
    "query.stop()"
   ]
  },
  {
   "cell_type": "code",
   "execution_count": 10,
   "id": "e3c81726",
   "metadata": {},
   "outputs": [],
   "source": [
    "df = spark.read.parquet('OutStream/')"
   ]
  },
  {
   "cell_type": "code",
   "execution_count": 11,
   "id": "89fec3cd",
   "metadata": {},
   "outputs": [
    {
     "name": "stdout",
     "output_type": "stream",
     "text": [
      "+-------+-----+--------+------+-----------+\n",
      "|   date|delay|distance|origin|destination|\n",
      "+-------+-----+--------+------+-----------+\n",
      "|   date| null|    null|origin|destination|\n",
      "|1011245|    6|     602|   ABE|        ATL|\n",
      "|1020600|   -8|     369|   ABE|        DTW|\n",
      "|1021245|   -2|     602|   ABE|        ATL|\n",
      "|1020605|   -4|     602|   ABE|        ATL|\n",
      "|1031245|   -4|     602|   ABE|        ATL|\n",
      "|1030605|    0|     602|   ABE|        ATL|\n",
      "|1041243|   10|     602|   ABE|        ATL|\n",
      "|1040605|   28|     602|   ABE|        ATL|\n",
      "|1051245|   88|     602|   ABE|        ATL|\n",
      "|1050605|    9|     602|   ABE|        ATL|\n",
      "|1061215|   -6|     602|   ABE|        ATL|\n",
      "|1061725|   69|     602|   ABE|        ATL|\n",
      "|1061230|    0|     369|   ABE|        DTW|\n",
      "|1060625|   -3|     602|   ABE|        ATL|\n",
      "|1070600|    0|     369|   ABE|        DTW|\n",
      "|1071725|    0|     602|   ABE|        ATL|\n",
      "|1071230|    0|     369|   ABE|        DTW|\n",
      "|1070625|    0|     602|   ABE|        ATL|\n",
      "|1071219|    0|     569|   ABE|        ORD|\n",
      "+-------+-----+--------+------+-----------+\n",
      "\n"
     ]
    }
   ],
   "source": [
    "df.show(40)"
   ]
  },
  {
   "cell_type": "code",
   "execution_count": null,
   "id": "e7898c94",
   "metadata": {},
   "outputs": [],
   "source": []
  }
 ],
 "metadata": {
  "kernelspec": {
   "display_name": "Python 3 (ipykernel)",
   "language": "python",
   "name": "python3"
  },
  "language_info": {
   "codemirror_mode": {
    "name": "ipython",
    "version": 3
   },
   "file_extension": ".py",
   "mimetype": "text/x-python",
   "name": "python",
   "nbconvert_exporter": "python",
   "pygments_lexer": "ipython3",
   "version": "3.9.12"
  }
 },
 "nbformat": 4,
 "nbformat_minor": 5
}
