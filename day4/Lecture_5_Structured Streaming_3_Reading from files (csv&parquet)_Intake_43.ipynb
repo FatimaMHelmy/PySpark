{
 "cells": [
  {
   "cell_type": "code",
   "execution_count": null,
   "id": "9f30c8ec",
   "metadata": {},
   "outputs": [],
   "source": [
    "import pyspark\n",
    "from pyspark.sql import SparkSession\n",
    "spark = SparkSession.builder.getOrCreate()"
   ]
  },
  {
   "cell_type": "code",
   "execution_count": 1,
   "id": "9f833aa9",
   "metadata": {},
   "outputs": [],
   "source": [
    "from pyspark.sql.types import (StructType, StructField,\n",
    "                               StringType, IntegerType)\n",
    "\n",
    "recordSchema = StructType([StructField('date', StringType(), True),\n",
    "                           StructField('delay', IntegerType(), True),\n",
    "                           StructField('distance', IntegerType(), True),\n",
    "                           StructField('origin', StringType(), True),\n",
    "                           StructField('destination', StringType(), True)])"
   ]
  },
  {
   "cell_type": "code",
   "execution_count": 25,
   "id": "b6efa589",
   "metadata": {},
   "outputs": [],
   "source": [
    "df = spark.readStream.format(\"csv\") \\\n",
    "    .schema(recordSchema) \\\n",
    "    .load(\"MyInputStream/\")"
   ]
  },
  {
   "cell_type": "code",
   "execution_count": 10,
   "id": "3779ded1",
   "metadata": {},
   "outputs": [],
   "source": [
    "import pyspark.sql.functions as F"
   ]
  },
  {
   "cell_type": "code",
   "execution_count": 26,
   "id": "15121a38",
   "metadata": {},
   "outputs": [],
   "source": [
    "df2 = df.groupBy('destination').agg(F.avg('delay').alias('AverageDelay'))"
   ]
  },
  {
   "cell_type": "code",
   "execution_count": 27,
   "id": "86722467",
   "metadata": {},
   "outputs": [
    {
     "data": {
      "text/plain": [
       "DataFrame[destination: string, AverageDelay: double]"
      ]
     },
     "execution_count": 27,
     "metadata": {},
     "output_type": "execute_result"
    }
   ],
   "source": [
    "df2"
   ]
  },
  {
   "cell_type": "code",
   "execution_count": 33,
   "id": "07458703",
   "metadata": {},
   "outputs": [],
   "source": [
    "df = spark.readStream.format(\"parquet\") \\\n",
    "    .schema(recordSchema) \\\n",
    "    .load(\"MyInputStream/\")"
   ]
  },
  {
   "cell_type": "code",
   "execution_count": 34,
   "id": "9d56011c",
   "metadata": {},
   "outputs": [],
   "source": [
    "df2 = df.groupBy('destination').agg(F.avg('delay').alias('AverageDelay'))"
   ]
  },
  {
   "cell_type": "code",
   "execution_count": 17,
   "id": "22604e35",
   "metadata": {},
   "outputs": [],
   "source": [
    "writer = df.writeStream.outputMode(\"append\") \\\n",
    "    .format(\"console\") \\\n",
    "    .option(\"truncate\", False) \\\n",
    "    .option(\"numRows\", 200) "
   ]
  },
  {
   "cell_type": "code",
   "execution_count": 36,
   "id": "5b4858ff",
   "metadata": {},
   "outputs": [],
   "source": [
    "writerAvg = df2.writeStream.outputMode(\"complete\") \\\n",
    "    .format(\"console\") \\\n",
    "    .option(\"truncate\", False) \\\n",
    "    .option(\"numRows\", 200) "
   ]
  },
  {
   "cell_type": "code",
   "execution_count": 37,
   "id": "f9309f8f",
   "metadata": {},
   "outputs": [
    {
     "name": "stdout",
     "output_type": "stream",
     "text": [
      "23/04/19 14:27:13 WARN ResolveWriteToStream: Temporary checkpoint location created which is deleted normally when the query didn't fail: /tmp/temporary-d5feeeba-3871-41fc-9a3b-24ec2a0a557f. If it's required to delete it under any circumstances, please set spark.sql.streaming.forceDeleteTempCheckpointLocation to true. Important to know deleting temp checkpoint folder is best effort.\n",
      "23/04/19 14:27:13 WARN ResolveWriteToStream: spark.sql.adaptive.enabled is not supported in streaming DataFrames/Datasets and will be disabled.\n"
     ]
    },
    {
     "name": "stderr",
     "output_type": "stream",
     "text": [
      "                                                                                \r"
     ]
    },
    {
     "name": "stdout",
     "output_type": "stream",
     "text": [
      "-------------------------------------------\n",
      "Batch: 0\n",
      "-------------------------------------------\n",
      "+-----------+------------------+\n",
      "|destination|AverageDelay      |\n",
      "+-----------+------------------+\n",
      "|ATL        |13.642857142857142|\n",
      "|ORD        |0.0               |\n",
      "|DTW        |-2.0              |\n",
      "+-----------+------------------+\n",
      "\n"
     ]
    },
    {
     "name": "stderr",
     "output_type": "stream",
     "text": [
      "[Stage 20:===================================================>  (191 + 4) / 200]\r"
     ]
    },
    {
     "name": "stdout",
     "output_type": "stream",
     "text": [
      "-------------------------------------------\n",
      "Batch: 1\n",
      "-------------------------------------------\n",
      "+-----------+------------------+\n",
      "|destination|AverageDelay      |\n",
      "+-----------+------------------+\n",
      "|ATL        |18.26086956521739 |\n",
      "|ORD        |28.4              |\n",
      "|DTW        |13.636363636363637|\n",
      "+-----------+------------------+\n",
      "\n"
     ]
    },
    {
     "name": "stderr",
     "output_type": "stream",
     "text": [
      "                                                                                \r"
     ]
    },
    {
     "name": "stdout",
     "output_type": "stream",
     "text": [
      "-------------------------------------------\n",
      "Batch: 2\n",
      "-------------------------------------------\n",
      "+-----------+------------------+\n",
      "|destination|AverageDelay      |\n",
      "+-----------+------------------+\n",
      "|ATL        |13.46875          |\n",
      "|ORD        |13.777777777777779|\n",
      "|DTW        |6.647058823529412 |\n",
      "+-----------+------------------+\n",
      "\n"
     ]
    }
   ],
   "source": [
    "query = writerAvg.start()"
   ]
  },
  {
   "cell_type": "code",
   "execution_count": 38,
   "id": "e373d827",
   "metadata": {},
   "outputs": [],
   "source": [
    "query.stop()"
   ]
  },
  {
   "cell_type": "code",
   "execution_count": 4,
   "id": "23bae4c4",
   "metadata": {
    "scrolled": false
   },
   "outputs": [
    {
     "name": "stdout",
     "output_type": "stream",
     "text": [
      "23/04/19 14:15:34 WARN ResolveWriteToStream: Temporary checkpoint location created which is deleted normally when the query didn't fail: /tmp/temporary-b1872b8e-8189-4e66-8e80-5b094e278f7c. If it's required to delete it under any circumstances, please set spark.sql.streaming.forceDeleteTempCheckpointLocation to true. Important to know deleting temp checkpoint folder is best effort.\n",
      "23/04/19 14:15:34 WARN ResolveWriteToStream: spark.sql.adaptive.enabled is not supported in streaming DataFrames/Datasets and will be disabled.\n",
      "-------------------------------------------\n",
      "Batch: 0\n",
      "-------------------------------------------\n",
      "+-------+-----+--------+------+-----------+\n",
      "|date   |delay|distance|origin|destination|\n",
      "+-------+-----+--------+------+-----------+\n",
      "|date   |null |null    |origin|destination|\n",
      "|1011245|6    |602     |ABE   |ATL        |\n",
      "|1020600|-8   |369     |ABE   |DTW        |\n",
      "|1021245|-2   |602     |ABE   |ATL        |\n",
      "|1020605|-4   |602     |ABE   |ATL        |\n",
      "|1031245|-4   |602     |ABE   |ATL        |\n",
      "|1030605|0    |602     |ABE   |ATL        |\n",
      "|1041243|10   |602     |ABE   |ATL        |\n",
      "|1040605|28   |602     |ABE   |ATL        |\n",
      "|1051245|88   |602     |ABE   |ATL        |\n",
      "|1050605|9    |602     |ABE   |ATL        |\n",
      "|1061215|-6   |602     |ABE   |ATL        |\n",
      "|1061725|69   |602     |ABE   |ATL        |\n",
      "|1061230|0    |369     |ABE   |DTW        |\n",
      "|1060625|-3   |602     |ABE   |ATL        |\n",
      "|1070600|0    |369     |ABE   |DTW        |\n",
      "|1071725|0    |602     |ABE   |ATL        |\n",
      "|1071230|0    |369     |ABE   |DTW        |\n",
      "|1070625|0    |602     |ABE   |ATL        |\n",
      "|1071219|0    |569     |ABE   |ORD        |\n",
      "+-------+-----+--------+------+-----------+\n",
      "\n",
      "-------------------------------------------\n",
      "Batch: 1\n",
      "-------------------------------------------\n",
      "+-------+-----+--------+------+-----------+\n",
      "|date   |delay|distance|origin|destination|\n",
      "+-------+-----+--------+------+-----------+\n",
      "|date   |null |null    |origin|destination|\n",
      "|1121215|-5   |602     |ABE   |ATL        |\n",
      "|1121725|-1   |602     |ABE   |ATL        |\n",
      "|1131215|14   |602     |ABE   |ATL        |\n",
      "|1130600|-7   |369     |ABE   |DTW        |\n",
      "|1131725|-6   |602     |ABE   |ATL        |\n",
      "|1131230|-13  |369     |ABE   |DTW        |\n",
      "|1130625|29   |602     |ABE   |ATL        |\n",
      "|1131219|-8   |569     |ABE   |ORD        |\n",
      "|1140600|-9   |369     |ABE   |DTW        |\n",
      "|1141725|-9   |602     |ABE   |ATL        |\n",
      "|1141230|-8   |369     |ABE   |DTW        |\n",
      "|1140625|-5   |602     |ABE   |ATL        |\n",
      "|1141219|-10  |569     |ABE   |ORD        |\n",
      "|1150600|0    |369     |ABE   |DTW        |\n",
      "|1151725|-6   |602     |ABE   |ATL        |\n",
      "|1151230|0    |369     |ABE   |DTW        |\n",
      "|1150625|0    |602     |ABE   |ATL        |\n",
      "|1150607|0    |569     |ABE   |ORD        |\n",
      "|1151219|0    |569     |ABE   |ORD        |\n",
      "+-------+-----+--------+------+-----------+\n",
      "\n"
     ]
    }
   ],
   "source": [
    "query = writer.start()"
   ]
  },
  {
   "cell_type": "code",
   "execution_count": 18,
   "id": "d6dd1e0c",
   "metadata": {},
   "outputs": [
    {
     "name": "stdout",
     "output_type": "stream",
     "text": [
      "23/04/19 14:22:56 WARN ResolveWriteToStream: Temporary checkpoint location created which is deleted normally when the query didn't fail: /tmp/temporary-7ecb8bc6-8291-43dc-b265-243334058465. If it's required to delete it under any circumstances, please set spark.sql.streaming.forceDeleteTempCheckpointLocation to true. Important to know deleting temp checkpoint folder is best effort.\n",
      "23/04/19 14:22:56 WARN ResolveWriteToStream: spark.sql.adaptive.enabled is not supported in streaming DataFrames/Datasets and will be disabled.\n"
     ]
    },
    {
     "name": "stderr",
     "output_type": "stream",
     "text": [
      "\r",
      "[Stage 6:>                                                          (0 + 1) / 1]\r",
      "\r",
      "                                                                                \r"
     ]
    },
    {
     "name": "stdout",
     "output_type": "stream",
     "text": [
      "-------------------------------------------\n",
      "Batch: 0\n",
      "-------------------------------------------\n",
      "+-------+-----+--------+------+-----------+\n",
      "|date   |delay|distance|origin|destination|\n",
      "+-------+-----+--------+------+-----------+\n",
      "|1011245|6    |602     |ABE   |ATL        |\n",
      "|1020600|-8   |369     |ABE   |DTW        |\n",
      "|1021245|-2   |602     |ABE   |ATL        |\n",
      "|1020605|-4   |602     |ABE   |ATL        |\n",
      "|1031245|-4   |602     |ABE   |ATL        |\n",
      "|1030605|0    |602     |ABE   |ATL        |\n",
      "|1041243|10   |602     |ABE   |ATL        |\n",
      "|1040605|28   |602     |ABE   |ATL        |\n",
      "|1051245|88   |602     |ABE   |ATL        |\n",
      "|1050605|9    |602     |ABE   |ATL        |\n",
      "|1061215|-6   |602     |ABE   |ATL        |\n",
      "|1061725|69   |602     |ABE   |ATL        |\n",
      "|1061230|0    |369     |ABE   |DTW        |\n",
      "|1060625|-3   |602     |ABE   |ATL        |\n",
      "|1070600|0    |369     |ABE   |DTW        |\n",
      "|1071725|0    |602     |ABE   |ATL        |\n",
      "|1071230|0    |369     |ABE   |DTW        |\n",
      "|1070625|0    |602     |ABE   |ATL        |\n",
      "|1071219|0    |569     |ABE   |ORD        |\n",
      "+-------+-----+--------+------+-----------+\n",
      "\n",
      "-------------------------------------------\n",
      "Batch: 1\n",
      "-------------------------------------------\n",
      "+-------+-----+--------+------+-----------+\n",
      "|date   |delay|distance|origin|destination|\n",
      "+-------+-----+--------+------+-----------+\n",
      "|1080600|0    |369     |ABE   |DTW        |\n",
      "|1081230|33   |369     |ABE   |DTW        |\n",
      "|1080625|1    |602     |ABE   |ATL        |\n",
      "|1080607|5    |569     |ABE   |ORD        |\n",
      "|1081219|54   |569     |ABE   |ORD        |\n",
      "|1091215|43   |602     |ABE   |ATL        |\n",
      "|1090600|151  |369     |ABE   |DTW        |\n",
      "|1091725|0    |602     |ABE   |ATL        |\n",
      "|1091230|-4   |369     |ABE   |DTW        |\n",
      "|1090625|8    |602     |ABE   |ATL        |\n",
      "|1091219|83   |569     |ABE   |ORD        |\n",
      "|1101215|-5   |602     |ABE   |ATL        |\n",
      "|1100600|-5   |369     |ABE   |DTW        |\n",
      "|1101725|7    |602     |ABE   |ATL        |\n",
      "|1101230|-8   |369     |ABE   |DTW        |\n",
      "|1100625|52   |602     |ABE   |ATL        |\n",
      "|1101219|0    |569     |ABE   |ORD        |\n",
      "|1111215|127  |602     |ABE   |ATL        |\n",
      "|1110600|-9   |369     |ABE   |DTW        |\n",
      "|1110625|-4   |602     |ABE   |ATL        |\n",
      "+-------+-----+--------+------+-----------+\n",
      "\n",
      "-------------------------------------------\n",
      "Batch: 2\n",
      "-------------------------------------------\n",
      "+-------+-----+--------+------+-----------+\n",
      "|date   |delay|distance|origin|destination|\n",
      "+-------+-----+--------+------+-----------+\n",
      "|1121215|-5   |602     |ABE   |ATL        |\n",
      "|1121725|-1   |602     |ABE   |ATL        |\n",
      "|1131215|14   |602     |ABE   |ATL        |\n",
      "|1130600|-7   |369     |ABE   |DTW        |\n",
      "|1131725|-6   |602     |ABE   |ATL        |\n",
      "|1131230|-13  |369     |ABE   |DTW        |\n",
      "|1130625|29   |602     |ABE   |ATL        |\n",
      "|1131219|-8   |569     |ABE   |ORD        |\n",
      "|1140600|-9   |369     |ABE   |DTW        |\n",
      "|1141725|-9   |602     |ABE   |ATL        |\n",
      "|1141230|-8   |369     |ABE   |DTW        |\n",
      "|1140625|-5   |602     |ABE   |ATL        |\n",
      "|1141219|-10  |569     |ABE   |ORD        |\n",
      "|1150600|0    |369     |ABE   |DTW        |\n",
      "|1151725|-6   |602     |ABE   |ATL        |\n",
      "|1151230|0    |369     |ABE   |DTW        |\n",
      "|1150625|0    |602     |ABE   |ATL        |\n",
      "|1150607|0    |569     |ABE   |ORD        |\n",
      "|1151219|0    |569     |ABE   |ORD        |\n",
      "+-------+-----+--------+------+-----------+\n",
      "\n"
     ]
    }
   ],
   "source": [
    "query = writer.start()"
   ]
  },
  {
   "cell_type": "code",
   "execution_count": 30,
   "id": "3b342e2f",
   "metadata": {},
   "outputs": [],
   "source": [
    "query.stop()"
   ]
  },
  {
   "cell_type": "markdown",
   "id": "2ac8e04a",
   "metadata": {},
   "source": [
    "### Note:\n",
    " - Complete output mode not supported when there are no streaming aggregations on streaming DataFrames/Datasets."
   ]
  },
  {
   "cell_type": "code",
   "execution_count": null,
   "id": "349bca9c",
   "metadata": {},
   "outputs": [],
   "source": []
  }
 ],
 "metadata": {
  "kernelspec": {
   "display_name": "Python 3 (ipykernel)",
   "language": "python",
   "name": "python3"
  },
  "language_info": {
   "codemirror_mode": {
    "name": "ipython",
    "version": 3
   },
   "file_extension": ".py",
   "mimetype": "text/x-python",
   "name": "python",
   "nbconvert_exporter": "python",
   "pygments_lexer": "ipython3",
   "version": "3.9.12"
  }
 },
 "nbformat": 4,
 "nbformat_minor": 5
}
