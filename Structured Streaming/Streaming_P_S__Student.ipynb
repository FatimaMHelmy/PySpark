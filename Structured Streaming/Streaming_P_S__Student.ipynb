{
  "cells": [
    {
      "cell_type": "code",
      "execution_count": null,
      "id": "60f97978",
      "metadata": {
        "colab": {
          "base_uri": "https://localhost:8080/"
        },
        "id": "60f97978",
        "outputId": "f507547a-e79d-4b60-a5fa-b17bc284c302"
      },
      "outputs": [
        {
          "output_type": "stream",
          "name": "stdout",
          "text": [
            "Looking in indexes: https://pypi.org/simple, https://us-python.pkg.dev/colab-wheels/public/simple/\n",
            "Collecting spark\n",
            "  Downloading spark-0.2.1.tar.gz (41 kB)\n",
            "\u001b[2K     \u001b[90m━━━━━━━━━━━━━━━━━━━━━━━━━━━━━━━━━━━━━━━━\u001b[0m \u001b[32m41.0/41.0 kB\u001b[0m \u001b[31m1.3 MB/s\u001b[0m eta \u001b[36m0:00:00\u001b[0m\n",
            "\u001b[?25h  Preparing metadata (setup.py) ... \u001b[?25l\u001b[?25hdone\n",
            "Building wheels for collected packages: spark\n",
            "  Building wheel for spark (setup.py) ... \u001b[?25l\u001b[?25hdone\n",
            "  Created wheel for spark: filename=spark-0.2.1-py3-none-any.whl size=58760 sha256=7cd1fd8f887959b94acce44fbf2824fb439a37e8f8a1900738991ad6b94f158c\n",
            "  Stored in directory: /root/.cache/pip/wheels/63/88/77/b4131110ea4094540f7b47c6d62a649807d7e94800da5eab0b\n",
            "Successfully built spark\n",
            "Installing collected packages: spark\n",
            "Successfully installed spark-0.2.1\n"
          ]
        }
      ],
      "source": [
        "#! pip install spark "
      ]
    },
    {
      "cell_type": "code",
      "source": [
        "#%rm -rf /content/InputStream"
      ],
      "metadata": {
        "id": "252O95N9Yk0N"
      },
      "id": "252O95N9Yk0N",
      "execution_count": null,
      "outputs": []
    },
    {
      "cell_type": "code",
      "source": [
        "#! pip install pyspark"
      ],
      "metadata": {
        "colab": {
          "base_uri": "https://localhost:8080/"
        },
        "id": "pKid7l3HEnVf",
        "outputId": "e6cb69b2-9b0f-4422-b2bb-9bd7f7499acf"
      },
      "id": "pKid7l3HEnVf",
      "execution_count": null,
      "outputs": [
        {
          "output_type": "stream",
          "name": "stdout",
          "text": [
            "Looking in indexes: https://pypi.org/simple, https://us-python.pkg.dev/colab-wheels/public/simple/\n",
            "Collecting pyspark\n",
            "  Downloading pyspark-3.4.0.tar.gz (310.8 MB)\n",
            "\u001b[2K     \u001b[90m━━━━━━━━━━━━━━━━━━━━━━━━━━━━━━━━━━━━━━━\u001b[0m \u001b[32m310.8/310.8 MB\u001b[0m \u001b[31m3.6 MB/s\u001b[0m eta \u001b[36m0:00:00\u001b[0m\n",
            "\u001b[?25h  Preparing metadata (setup.py) ... \u001b[?25l\u001b[?25hdone\n",
            "Requirement already satisfied: py4j==0.10.9.7 in /usr/local/lib/python3.10/dist-packages (from pyspark) (0.10.9.7)\n",
            "Building wheels for collected packages: pyspark\n",
            "  Building wheel for pyspark (setup.py) ... \u001b[?25l\u001b[?25hdone\n",
            "  Created wheel for pyspark: filename=pyspark-3.4.0-py2.py3-none-any.whl size=311317145 sha256=d9ceae8b5481535eaaa36c6511a0fe16938801ba348cb7accf1d892aee5207fe\n",
            "  Stored in directory: /root/.cache/pip/wheels/7b/1b/4b/3363a1d04368e7ff0d408e57ff57966fcdf00583774e761327\n",
            "Successfully built pyspark\n",
            "Installing collected packages: pyspark\n",
            "Successfully installed pyspark-3.4.0\n"
          ]
        }
      ]
    },
    {
      "cell_type": "code",
      "source": [
        "#! pip install findspark"
      ],
      "metadata": {
        "colab": {
          "base_uri": "https://localhost:8080/"
        },
        "id": "sKCmt7uTEty0",
        "outputId": "2c43da9e-b6af-459d-c686-3168b13490c2"
      },
      "id": "sKCmt7uTEty0",
      "execution_count": null,
      "outputs": [
        {
          "output_type": "stream",
          "name": "stdout",
          "text": [
            "Looking in indexes: https://pypi.org/simple, https://us-python.pkg.dev/colab-wheels/public/simple/\n",
            "Collecting findspark\n",
            "  Downloading findspark-2.0.1-py2.py3-none-any.whl (4.4 kB)\n",
            "Installing collected packages: findspark\n",
            "Successfully installed findspark-2.0.1\n"
          ]
        }
      ]
    },
    {
      "cell_type": "code",
      "source": [
        "import findspark \n",
        "import numpy \n",
        "import pandas\n",
        "findspark.init()\n",
        "import pyspark\n",
        "from  pyspark.sql import SparkSession \n",
        "import pyspark.sql.functions as F # for aggregation funs || min ,max ..."
      ],
      "metadata": {
        "id": "kZZk_lWCEiB7"
      },
      "id": "kZZk_lWCEiB7",
      "execution_count": null,
      "outputs": []
    },
    {
      "cell_type": "code",
      "execution_count": null,
      "id": "201cee8c",
      "metadata": {
        "colab": {
          "base_uri": "https://localhost:8080/",
          "height": 17
        },
        "id": "201cee8c",
        "outputId": "59aa3eb8-e5e7-48f1-ff2e-01f0e71b35ad"
      },
      "outputs": [
        {
          "output_type": "display_data",
          "data": {
            "text/plain": [
              "<IPython.core.display.HTML object>"
            ],
            "text/html": [
              "<style>pre { white-space: pre !important; }</style>"
            ]
          },
          "metadata": {}
        }
      ],
      "source": [
        "from IPython.display import display, HTML\n",
        "display(HTML(\"<style>pre { white-space: pre !important; }</style>\"))"
      ]
    },
    {
      "cell_type": "code",
      "source": [
        "spark = SparkSession.builder.getOrCreate()\n",
        "sc = spark.sparkContext"
      ],
      "metadata": {
        "id": "TdaJEvL3E_x_"
      },
      "id": "TdaJEvL3E_x_",
      "execution_count": null,
      "outputs": []
    },
    {
      "cell_type": "markdown",
      "id": "efac8040",
      "metadata": {
        "id": "efac8040"
      },
      "source": [
        "### Create the schema of the streamed files (check the column names and types from the CSV files)"
      ]
    },
    {
      "cell_type": "code",
      "execution_count": null,
      "id": "c4674d5d",
      "metadata": {
        "id": "c4674d5d"
      },
      "outputs": [],
      "source": [
        "from pyspark.sql.types import StructType, StructField, StringType, DoubleType,IntegerType,DateType\n",
        "\n",
        "my_schema = StructType([\n",
        "    StructField('ID',DoubleType(), True),    \n",
        "    StructField('Date',DateType(), True),\n",
        "    StructField('Open', DoubleType(), True),\n",
        "    StructField('High', DoubleType(), True),\n",
        "    StructField('Low', DoubleType(), True),\n",
        "    StructField('Close', DoubleType(), True),\n",
        "    StructField('dj Close', DoubleType(), True),\n",
        "    StructField('Volume', IntegerType(), True)\n",
        "\n",
        "])"
      ]
    },
    {
      "cell_type": "markdown",
      "id": "4f50fbeb",
      "metadata": {
        "id": "4f50fbeb"
      },
      "source": [
        "### Create the dataframe by reading the stream using format \"csv\" and the schema you created."
      ]
    },
    {
      "cell_type": "code",
      "source": [
        "# from google.colab import drive\n",
        "# drive.mount('/content/drive')"
      ],
      "metadata": {
        "id": "ZvOPV07rFH5I"
      },
      "id": "ZvOPV07rFH5I",
      "execution_count": null,
      "outputs": []
    },
    {
      "cell_type": "code",
      "source": [
        "! unzip -u \"/content/InputStream.zip\""
      ],
      "metadata": {
        "colab": {
          "base_uri": "https://localhost:8080/"
        },
        "id": "-76iByOgFwT_",
        "outputId": "7571054e-467c-468f-866f-057f4bca4802"
      },
      "id": "-76iByOgFwT_",
      "execution_count": null,
      "outputs": [
        {
          "output_type": "stream",
          "name": "stdout",
          "text": [
            "Archive:  /content/InputStream.zip\n",
            "  inflating: InputStream/KOSPI_STOCK_0.csv  \n",
            "  inflating: InputStream/KOSPI_STOCK_1.csv  \n",
            "  inflating: InputStream/KOSPI_STOCK_2.csv  \n",
            "  inflating: InputStream/KOSPI_STOCK_3.csv  \n"
          ]
        }
      ]
    },
    {
      "cell_type": "code",
      "execution_count": null,
      "id": "d77671b2",
      "metadata": {
        "id": "d77671b2"
      },
      "outputs": [],
      "source": [
        "df = spark.readStream.format('csv').option(\"header\", \"true\").option(\"inferSchema\", \"true\").load('/content/InputStream/*.csv',schema=my_schema)"
      ]
    },
    {
      "cell_type": "markdown",
      "id": "ce1e0e44",
      "metadata": {
        "id": "ce1e0e44"
      },
      "source": [
        "### Make sure the sataframe is streaming the files from the folder"
      ]
    },
    {
      "cell_type": "code",
      "execution_count": null,
      "id": "0fc0fa13",
      "metadata": {
        "colab": {
          "base_uri": "https://localhost:8080/"
        },
        "id": "0fc0fa13",
        "outputId": "ad0b2691-de67-46dd-add6-00286c4a1e4f"
      },
      "outputs": [
        {
          "output_type": "stream",
          "name": "stdout",
          "text": [
            "root\n",
            " |-- ID: double (nullable = true)\n",
            " |-- Date: date (nullable = true)\n",
            " |-- Open: double (nullable = true)\n",
            " |-- High: double (nullable = true)\n",
            " |-- Low: double (nullable = true)\n",
            " |-- Close: double (nullable = true)\n",
            " |-- dj Close: double (nullable = true)\n",
            " |-- Volume: integer (nullable = true)\n",
            "\n"
          ]
        }
      ],
      "source": [
        "df.printSchema()  "
      ]
    },
    {
      "cell_type": "markdown",
      "id": "ac9d68de",
      "metadata": {
        "id": "ac9d68de"
      },
      "source": [
        "### Create a stream writer into memory and specify the query name \"stock:"
      ]
    },
    {
      "cell_type": "code",
      "execution_count": null,
      "id": "f40bf944",
      "metadata": {
        "id": "f40bf944"
      },
      "outputs": [],
      "source": [
        "writer = df.writeStream.outputMode(\"append\") \\\n",
        "    .format(\"memory\") \\\n",
        "    .option(\"queryname\",\"stock\")\\\n",
        "    .option(\"truncate\", False) \\\n",
        "    .option(\"numRows\", 200) \n"
      ]
    },
    {
      "cell_type": "code",
      "source": [
        "query2 = writer.start()"
      ],
      "metadata": {
        "id": "tg4YCXkWQ6S_"
      },
      "id": "tg4YCXkWQ6S_",
      "execution_count": null,
      "outputs": []
    },
    {
      "cell_type": "code",
      "source": [
        "query2.stop()"
      ],
      "metadata": {
        "id": "EpaT_p5MVb6Q"
      },
      "id": "EpaT_p5MVb6Q",
      "execution_count": null,
      "outputs": []
    },
    {
      "cell_type": "markdown",
      "id": "63a5f9a4",
      "metadata": {
        "id": "63a5f9a4"
      },
      "source": [
        "### Start the write stream and make sure it works (read all columns from the table)"
      ]
    },
    {
      "cell_type": "code",
      "execution_count": null,
      "id": "0d98c6dc",
      "metadata": {
        "colab": {
          "base_uri": "https://localhost:8080/"
        },
        "id": "0d98c6dc",
        "outputId": "191faafc-0656-4de6-87d1-21106d1e1846"
      },
      "outputs": [
        {
          "output_type": "stream",
          "name": "stdout",
          "text": [
            "+---+----+----+----+---+-----+--------+------+\n",
            "| ID|Date|Open|High|Low|Close|dj Close|Volume|\n",
            "+---+----+----+----+---+-----+--------+------+\n",
            "+---+----+----+----+---+-----+--------+------+\n",
            "only showing top 0 rows\n",
            "\n"
          ]
        }
      ],
      "source": [
        "spark.sql('SELECT * FROM stock ').show(0)"
      ]
    },
    {
      "cell_type": "code",
      "execution_count": null,
      "id": "769e6e1e",
      "metadata": {
        "scrolled": true,
        "colab": {
          "base_uri": "https://localhost:8080/"
        },
        "id": "769e6e1e",
        "outputId": "5b2275aa-b0e6-4f15-8fad-c591b2b88d0b"
      },
      "outputs": [
        {
          "output_type": "stream",
          "name": "stdout",
          "text": [
            "+-----+----------+------------+------------+------------+------------+------------+------+\n",
            "|   ID|      Date|        Open|        High|         Low|       Close|    dj Close|Volume|\n",
            "+-----+----------+------------+------------+------------+------------+------------+------+\n",
            "|120.0|2000-06-20|22817.900391|23102.199219|21680.599609|22320.300781|21092.632813| 34466|\n",
            "|121.0|2000-06-21|21893.800781|22675.699219|21680.599609|22675.699219|21428.484375| 68651|\n",
            "|122.0|2000-06-22|23386.599609|23386.599609|     22462.5|23031.099609|21764.335938| 97209|\n",
            "|123.0|2000-06-23|22107.099609|24097.400391|22107.099609|     22889.0|21630.052734|199483|\n",
            "|124.0|2000-06-26|23102.199219|     24168.5|22569.099609|24026.300781|22704.796875|121969|\n",
            "|125.0|2000-06-27|24026.300781|25519.099609|     23742.0|24026.300781|22704.796875|113809|\n",
            "|126.0|2000-06-28|23884.199219|24666.099609|23884.199219|24666.099609|23309.408203| 86236|\n",
            "|127.0|2000-06-29|25234.699219|25234.699219|23919.699219|24239.599609|22906.365234| 45299|\n",
            "|128.0|2000-06-30|24523.900391|25092.599609|     23742.0|24879.300781|23510.880859| 76670|\n",
            "|129.0|2000-07-03|24239.599609|25590.199219|24239.599609|25092.599609|23712.449219| 63306|\n",
            "|130.0|2000-07-04|25767.900391|26087.699219|25234.699219|     25448.0|24048.302734| 45299|\n",
            "|131.0|2000-07-05|     25448.0|25590.199219|24523.900391|     25448.0|24048.302734| 48816|\n",
            "|132.0|2000-07-06|25519.099609|27367.300781|25128.099609|26585.300781|25123.048828|178662|\n",
            "|133.0|2000-07-07|27011.800781|     27154.0|     26301.0|27011.800781|25526.091797|104103|\n",
            "|134.0|2000-07-10|27722.699219|27722.699219|26443.199219|27011.800781|25526.091797|101570|\n",
            "|135.0|2000-07-11|27011.800781|27011.800781|26372.099609|26514.199219|25055.859375| 73716|\n",
            "|136.0|2000-07-12|26514.199219|27935.900391|26087.699219|26869.699219|25391.804688|139976|\n",
            "|137.0|2000-07-13|26869.699219|26940.800781|     26301.0|26407.599609|24955.119141| 64994|\n",
            "|138.0|2000-07-14|25945.599609|26407.599609|25341.400391|25803.400391|24384.154297| 75404|\n",
            "|139.0|2000-07-17|25803.400391|25803.400391|25803.400391|25803.400391|24384.154297|     0|\n",
            "+-----+----------+------------+------------+------------+------------+------------+------+\n",
            "only showing top 20 rows\n",
            "\n"
          ]
        }
      ],
      "source": [
        "spark.sql('SELECT * FROM stock ').show(20)"
      ]
    },
    {
      "cell_type": "markdown",
      "id": "16908fa6",
      "metadata": {
        "id": "16908fa6"
      },
      "source": [
        "### Remove the first row from the data (hint: drop the rows where ALL values are null), then add a new column \"diff\", which is the difference between high and low columns"
      ]
    },
    {
      "cell_type": "code",
      "execution_count": null,
      "id": "9f2eaa25",
      "metadata": {
        "id": "9f2eaa25"
      },
      "outputs": [],
      "source": [
        "#df_spark = spark.sql(\"select * from stock\")"
      ]
    },
    {
      "cell_type": "code",
      "source": [
        "df_spark = df.dropna(how=\"all\")"
      ],
      "metadata": {
        "id": "o9XYz08ReTr4"
      },
      "id": "o9XYz08ReTr4",
      "execution_count": null,
      "outputs": []
    },
    {
      "cell_type": "code",
      "source": [
        "from pyspark.sql.functions import col\n",
        "df_spark = df_spark.withColumn(\"diff\", col(\"High\") - col(\"LOW\"))"
      ],
      "metadata": {
        "id": "1WKKpYGTeq_W"
      },
      "id": "1WKKpYGTeq_W",
      "execution_count": null,
      "outputs": []
    },
    {
      "cell_type": "code",
      "source": [
        "df_spark.printSchema()"
      ],
      "metadata": {
        "colab": {
          "base_uri": "https://localhost:8080/"
        },
        "id": "dJGE-hVif7lq",
        "outputId": "5655bffe-6edd-4ac8-a8aa-3e48b92698d0"
      },
      "id": "dJGE-hVif7lq",
      "execution_count": null,
      "outputs": [
        {
          "output_type": "stream",
          "name": "stdout",
          "text": [
            "root\n",
            " |-- ID: double (nullable = true)\n",
            " |-- Date: date (nullable = true)\n",
            " |-- Open: double (nullable = true)\n",
            " |-- High: double (nullable = true)\n",
            " |-- Low: double (nullable = true)\n",
            " |-- Close: double (nullable = true)\n",
            " |-- dj Close: double (nullable = true)\n",
            " |-- Volume: integer (nullable = true)\n",
            " |-- diff: double (nullable = true)\n",
            "\n"
          ]
        }
      ]
    },
    {
      "cell_type": "code",
      "source": [
        "#df_spark.select(\"high\",\"low\",\"diff\").show(3)"
      ],
      "metadata": {
        "id": "Grvr4o3zgAkK"
      },
      "id": "Grvr4o3zgAkK",
      "execution_count": null,
      "outputs": []
    },
    {
      "cell_type": "markdown",
      "id": "1f14581b",
      "metadata": {
        "id": "1f14581b"
      },
      "source": [
        "### Create a new write stream using the new generated dataframe and call the generate table \"modified_data\""
      ]
    },
    {
      "cell_type": "code",
      "execution_count": null,
      "id": "9fb1be0e",
      "metadata": {
        "id": "9fb1be0e"
      },
      "outputs": [],
      "source": [
        "writer2 = df_spark.writeStream.outputMode(\"append\") \\\n",
        "    .format(\"memory\") \\\n",
        "    .option(\"queryname\",\"modified_data\")\\\n",
        "    .option(\"truncate\", False) \\\n",
        "    .option(\"numRows\", 200) \n"
      ]
    },
    {
      "cell_type": "code",
      "execution_count": null,
      "id": "969acbbc",
      "metadata": {
        "id": "969acbbc"
      },
      "outputs": [],
      "source": [
        "query_3 = writer2.start()"
      ]
    },
    {
      "cell_type": "code",
      "execution_count": null,
      "id": "b3bcedd4",
      "metadata": {
        "colab": {
          "base_uri": "https://localhost:8080/"
        },
        "id": "b3bcedd4",
        "outputId": "432d2a2d-8ac3-4e0b-f229-37a4b7a87c0c"
      },
      "outputs": [
        {
          "output_type": "stream",
          "name": "stdout",
          "text": [
            "+---+----+----+----+---+-----+--------+------+----+\n",
            "| ID|Date|Open|High|Low|Close|dj Close|Volume|diff|\n",
            "+---+----+----+----+---+-----+--------+------+----+\n",
            "+---+----+----+----+---+-----+--------+------+----+\n",
            "only showing top 0 rows\n",
            "\n"
          ]
        }
      ],
      "source": [
        "spark.sql(\"select * from modified_data\").show(0)"
      ]
    },
    {
      "cell_type": "code",
      "source": [
        "spark.sql(\"select * from modified_data\").show(20)"
      ],
      "metadata": {
        "colab": {
          "base_uri": "https://localhost:8080/"
        },
        "id": "LA_B6QtwjxJI",
        "outputId": "20a1bc0d-4eca-417a-de4d-94bd65335a41"
      },
      "id": "LA_B6QtwjxJI",
      "execution_count": null,
      "outputs": [
        {
          "output_type": "stream",
          "name": "stdout",
          "text": [
            "+-----+----------+------------+------------+------------+------------+------------+------+------------------+\n",
            "|   ID|      Date|        Open|        High|         Low|       Close|    dj Close|Volume|              diff|\n",
            "+-----+----------+------------+------------+------------+------------+------------+------+------------------+\n",
            "|120.0|2000-06-20|22817.900391|23102.199219|21680.599609|22320.300781|21092.632813| 34466|1421.5996099999975|\n",
            "|121.0|2000-06-21|21893.800781|22675.699219|21680.599609|22675.699219|21428.484375| 68651| 995.0996099999975|\n",
            "|122.0|2000-06-22|23386.599609|23386.599609|     22462.5|23031.099609|21764.335938| 97209| 924.0996090000008|\n",
            "|123.0|2000-06-23|22107.099609|24097.400391|22107.099609|     22889.0|21630.052734|199483|1990.3007819999984|\n",
            "|124.0|2000-06-26|23102.199219|     24168.5|22569.099609|24026.300781|22704.796875|121969|1599.4003909999992|\n",
            "|125.0|2000-06-27|24026.300781|25519.099609|     23742.0|24026.300781|22704.796875|113809|1777.0996090000008|\n",
            "|126.0|2000-06-28|23884.199219|24666.099609|23884.199219|24666.099609|23309.408203| 86236| 781.9003900000025|\n",
            "|127.0|2000-06-29|25234.699219|25234.699219|23919.699219|24239.599609|22906.365234| 45299|            1315.0|\n",
            "|128.0|2000-06-30|24523.900391|25092.599609|     23742.0|24879.300781|23510.880859| 76670|1350.5996090000008|\n",
            "|129.0|2000-07-03|24239.599609|25590.199219|24239.599609|25092.599609|23712.449219| 63306|1350.5996099999975|\n",
            "|130.0|2000-07-04|25767.900391|26087.699219|25234.699219|     25448.0|24048.302734| 45299|             853.0|\n",
            "|131.0|2000-07-05|     25448.0|25590.199219|24523.900391|     25448.0|24048.302734| 48816| 1066.298827999999|\n",
            "|132.0|2000-07-06|25519.099609|27367.300781|25128.099609|26585.300781|25123.048828|178662| 2239.201172000001|\n",
            "|133.0|2000-07-07|27011.800781|     27154.0|     26301.0|27011.800781|25526.091797|104103|             853.0|\n",
            "|134.0|2000-07-10|27722.699219|27722.699219|26443.199219|27011.800781|25526.091797|101570|            1279.5|\n",
            "|135.0|2000-07-11|27011.800781|27011.800781|26372.099609|26514.199219|25055.859375| 73716|  639.701172000001|\n",
            "|136.0|2000-07-12|26514.199219|27935.900391|26087.699219|26869.699219|25391.804688|139976| 1848.201172000001|\n",
            "|137.0|2000-07-13|26869.699219|26940.800781|     26301.0|26407.599609|24955.119141| 64994| 639.8007810000017|\n",
            "|138.0|2000-07-14|25945.599609|26407.599609|25341.400391|25803.400391|24384.154297| 75404|1066.1992180000016|\n",
            "|139.0|2000-07-17|25803.400391|25803.400391|25803.400391|25803.400391|24384.154297|     0|               0.0|\n",
            "+-----+----------+------------+------------+------------+------------+------------+------+------------------+\n",
            "only showing top 20 rows\n",
            "\n"
          ]
        }
      ]
    },
    {
      "cell_type": "markdown",
      "id": "e16c3036",
      "metadata": {
        "id": "e16c3036"
      },
      "source": [
        "### Write the generated data into files instead of the memory. "
      ]
    },
    {
      "cell_type": "code",
      "execution_count": null,
      "id": "6441b76a",
      "metadata": {
        "id": "6441b76a"
      },
      "outputs": [],
      "source": [
        "writer_folder = df_spark.writeStream.outputMode(\"append\") \\\n",
        "    .format(\"csv\") \\\n",
        "    .option(\"path\",\"/content/outpath/\")\\\n",
        "    .option(\"checkpointLocation\", \"chk1\")\\\n",
        "    .option(\"header\",\"true\")\n"
      ]
    },
    {
      "cell_type": "code",
      "source": [
        "#%rm -rf /content/outpath"
      ],
      "metadata": {
        "id": "KnFJBm60mie8"
      },
      "id": "KnFJBm60mie8",
      "execution_count": null,
      "outputs": []
    },
    {
      "cell_type": "code",
      "source": [
        "quer_folder = writer_folder.start()"
      ],
      "metadata": {
        "id": "ulstYpX2k0vF"
      },
      "id": "ulstYpX2k0vF",
      "execution_count": null,
      "outputs": []
    },
    {
      "cell_type": "markdown",
      "id": "72f07e3f",
      "metadata": {
        "id": "72f07e3f"
      },
      "source": [
        "### Stop the query. Now, try reading the generated files into a normal dataframe\n",
        "- Create a schema and use it to read the data.\n",
        "- Show the output."
      ]
    },
    {
      "cell_type": "code",
      "source": [
        "quer_folder.stop()"
      ],
      "metadata": {
        "id": "YDetXciHlE3P"
      },
      "id": "YDetXciHlE3P",
      "execution_count": null,
      "outputs": []
    },
    {
      "cell_type": "code",
      "source": [
        "data_from_folder = spark.read.format('csv').option(\"header\", \"true\").option(\"inferSchema\", \"true\").load('/content/outpath/*.csv')"
      ],
      "metadata": {
        "id": "nr4JajYalWCS"
      },
      "id": "nr4JajYalWCS",
      "execution_count": null,
      "outputs": []
    },
    {
      "cell_type": "code",
      "source": [
        "data_from_folder.show(3)"
      ],
      "metadata": {
        "colab": {
          "base_uri": "https://localhost:8080/"
        },
        "id": "aXgXfjjClsbG",
        "outputId": "ccd6a6cb-147b-4d9c-8ef2-5457b5487f32"
      },
      "id": "aXgXfjjClsbG",
      "execution_count": null,
      "outputs": [
        {
          "output_type": "stream",
          "name": "stdout",
          "text": [
            "+-----+----------+------------+------------+------------+------------+------------+------+------------------+\n",
            "|   ID|      Date|        Open|        High|         Low|       Close|    dj Close|Volume|              diff|\n",
            "+-----+----------+------------+------------+------------+------------+------------+------+------------------+\n",
            "|120.0|2000-06-20|22817.900391|23102.199219|21680.599609|22320.300781|21092.632813| 34466|1421.5996099999975|\n",
            "|121.0|2000-06-21|21893.800781|22675.699219|21680.599609|22675.699219|21428.484375| 68651| 995.0996099999975|\n",
            "|122.0|2000-06-22|23386.599609|23386.599609|     22462.5|23031.099609|21764.335938| 97209| 924.0996090000008|\n",
            "+-----+----------+------------+------------+------------+------------+------------+------+------------------+\n",
            "only showing top 3 rows\n",
            "\n"
          ]
        }
      ]
    },
    {
      "cell_type": "code",
      "source": [
        "data_from_folder.printSchema()"
      ],
      "metadata": {
        "colab": {
          "base_uri": "https://localhost:8080/"
        },
        "id": "Ltv5vW_il2Ct",
        "outputId": "bfc9e43b-0916-421a-c5df-033f46b09987"
      },
      "id": "Ltv5vW_il2Ct",
      "execution_count": null,
      "outputs": [
        {
          "output_type": "stream",
          "name": "stdout",
          "text": [
            "root\n",
            " |-- ID: double (nullable = true)\n",
            " |-- Date: date (nullable = true)\n",
            " |-- Open: double (nullable = true)\n",
            " |-- High: double (nullable = true)\n",
            " |-- Low: double (nullable = true)\n",
            " |-- Close: double (nullable = true)\n",
            " |-- dj Close: double (nullable = true)\n",
            " |-- Volume: integer (nullable = true)\n",
            " |-- diff: double (nullable = true)\n",
            "\n"
          ]
        }
      ]
    },
    {
      "cell_type": "markdown",
      "id": "4814d697",
      "metadata": {
        "id": "4814d697"
      },
      "source": [
        "### Sort the dataframe based on the ID"
      ]
    },
    {
      "cell_type": "code",
      "execution_count": null,
      "id": "c51d91a5",
      "metadata": {
        "colab": {
          "base_uri": "https://localhost:8080/"
        },
        "id": "c51d91a5",
        "outputId": "60c48224-3bab-44bb-a010-eec28fc1aa94"
      },
      "outputs": [
        {
          "output_type": "stream",
          "name": "stdout",
          "text": [
            "+----+----------+------------+------------+------------+------------+------------+------+------------------+\n",
            "|  ID|      Date|        Open|        High|         Low|       Close|    dj Close|Volume|              diff|\n",
            "+----+----------+------------+------------+------------+------------+------------+------+------------------+\n",
            "| 0.0|2000-01-04|22817.900391|25696.800781|22817.900391|24879.300781|23510.880859|108745|2878.9003900000025|\n",
            "| 1.0|2000-01-05|24523.900391|26229.900391|23670.900391|24417.300781|23074.294922|175990|            2559.0|\n",
            "| 2.0|2000-01-06|24381.699219|24666.099609|22746.800781|22817.900391|21562.865234| 71746| 1919.298827999999|\n",
            "| 3.0|2000-01-07|     22036.0|24879.300781|     22036.0|23884.199219|22570.513672|120984|2843.3007810000017|\n",
            "| 4.0|2000-01-10|24879.300781|25519.099609|23813.099609|24061.900391|22738.439453|151371|            1706.0|\n",
            "| 5.0|2000-01-11|     24168.5|     25021.5|23955.199219|24239.599609|22906.365234| 95943|1066.3007810000017|\n",
            "| 6.0|2000-01-12|     24168.5|24452.800781|23457.599609|23670.900391|22368.947266| 61899|  995.201172000001|\n",
            "| 7.0|2000-01-13|23670.900391|24132.900391|23102.199219|23244.400391| 21965.90625| 57538| 1030.701172000001|\n",
            "| 8.0|2000-01-14|23457.599609|     24168.5|22746.800781|23244.400391| 21965.90625| 84267|1421.6992189999983|\n",
            "| 9.0|2000-01-17|22533.599609|23457.599609|22533.599609|23457.599609|22167.376953| 67807|             924.0|\n",
            "|10.0|2000-01-18|23457.599609|     23742.0|22746.800781|23422.099609|22133.832031| 27995| 995.1992189999983|\n",
            "|11.0|2000-01-19|22817.900391|23173.300781|     22036.0|     22036.0|20823.970703| 44173|1137.3007810000017|\n",
            "|12.0|2000-01-20|21325.099609|22000.400391|     20756.5|21680.599609|20488.117188| 47550|1243.9003909999992|\n",
            "|13.0|2000-01-21|21680.599609|22391.400391|20863.099609|21680.599609|20488.117188| 80750|1528.3007819999984|\n",
            "|14.0|2000-01-24|20969.699219|21822.699219|20969.699219|20969.699219|19816.320313| 79906|             853.0|\n",
            "|15.0|2000-01-25|20258.900391|20934.199219|     19548.0|20116.699219|19010.236328|170925|1386.1992189999983|\n",
            "|16.0|2000-01-26|20223.300781|20543.199219|19761.300781|     20330.0|19211.804688| 59929| 781.8984379999965|\n",
            "|17.0|2000-01-27|     20401.0|22746.800781|     20330.0|21040.800781|19883.511719|139132|2416.8007810000017|\n",
            "|18.0|2000-01-28|21431.800781|22107.099609|21040.800781|21964.900391|20756.783203| 78640| 1066.298827999999|\n",
            "|19.0|2000-01-31|21325.099609|21893.800781|     21183.0|21467.300781|20286.552734| 45861| 710.8007810000017|\n",
            "+----+----------+------------+------------+------------+------------+------------+------+------------------+\n",
            "only showing top 20 rows\n",
            "\n"
          ]
        }
      ],
      "source": [
        "finalDFSorted = data_from_folder.sort('ID')\n",
        "finalDFSorted.show()"
      ]
    }
  ],
  "metadata": {
    "kernelspec": {
      "display_name": "Python 3 (ipykernel)",
      "language": "python",
      "name": "python3"
    },
    "language_info": {
      "codemirror_mode": {
        "name": "ipython",
        "version": 3
      },
      "file_extension": ".py",
      "mimetype": "text/x-python",
      "name": "python",
      "nbconvert_exporter": "python",
      "pygments_lexer": "ipython3",
      "version": "3.9.12"
    },
    "colab": {
      "provenance": []
    }
  },
  "nbformat": 4,
  "nbformat_minor": 5
}